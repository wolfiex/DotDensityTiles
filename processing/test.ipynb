{
 "cells": [
  {
   "cell_type": "code",
   "execution_count": 12,
   "metadata": {},
   "outputs": [],
   "source": [
    "import pandas as pd\n",
    "import geopandas as gpd\n",
    "from p_tqdm import p_map,p_umap,p_uimap,p_imap\n",
    "\n",
    "\n",
    "import glob, re , os \n",
    "import numpy as np\n",
    "dloc = '2021-oa-data'\n",
    "oloc = '../static/'\n",
    "tloc = 'temp/'"
   ]
  },
  {
   "cell_type": "code",
   "execution_count": 13,
   "metadata": {},
   "outputs": [],
   "source": [
    "# geom =  'Output_Areas_(Dec_2021)_Boundaries_Full_Clipped_EW_(BFC).geojson').set_index('OA21CD')gpd.read_file(\n",
    "\n",
    "# geom.to_file('geom.shp') \n",
    "geom = gpd.read_file('geom.shp').set_index('OA21CD')\n",
    "geom = geom.geometry"
   ]
  },
  {
   "cell_type": "code",
   "execution_count": 14,
   "metadata": {},
   "outputs": [],
   "source": [
    "import random\n",
    "from shapely.geometry import Point\n",
    "\n",
    "def generate_random(number, polygon):\n",
    "    points = []\n",
    "    minx, miny, maxx, maxy = polygon.bounds\n",
    "    while len(points) < number:\n",
    "        cds = [random.uniform(minx, maxx), random.uniform(miny, maxy)]\n",
    "        pnt = Point(cds)\n",
    "        if polygon.contains(pnt):\n",
    "            points.append(cds)\n",
    "    return points"
   ]
  },
  {
   "cell_type": "code",
   "execution_count": null,
   "metadata": {},
   "outputs": [],
   "source": [
    "\n"
   ]
  },
  {
   "cell_type": "code",
   "execution_count": 15,
   "metadata": {},
   "outputs": [],
   "source": [
    "typen = 'TS021_ethnic_group_tb_6a_2021'\n",
    "# 'TS021_ethnic_group_tb_6a_2021'\n",
    "# TS017_hh_size_5a_2021\n",
    "\n",
    "data = pd.read_csv(dloc+'/'+typen+'.csv').set_index('Geography code')"
   ]
  },
  {
   "cell_type": "code",
   "execution_count": 16,
   "metadata": {},
   "outputs": [],
   "source": [
    "def makepoints(area_chunks):\n",
    "    '''\n",
    "    This functions processes the points for several areas'''\n",
    "    dummy = []\n",
    "    \n",
    "    # if type(area_chunks) != 'list': area_chunks = [area_chunks]\n",
    "\n",
    "    for area in area_chunks:\n",
    "        row = data.loc[area]\n",
    "\n",
    "        for cid,col in enumerate(selection):\n",
    "\n",
    "            template = '{ \"type\": \"Feature\", \"properties\": { \"cat\": ' + str(cid)+' }, \"geometry\": { \"type\": \"Point\", \"coordinates\": [ %0.6f, %0.6f ] } },'\n",
    "\n",
    "            #need a format we can turn into geojson\n",
    "            dummy.extend([template%(p1,p2) for p1,p2 in generate_random(int(row[col]), geom.loc[area])])\n",
    "\n",
    "\n",
    "    np.random.shuffle(dummy)\n",
    "    return '\\n'.join(dummy)\n"
   ]
  },
  {
   "cell_type": "code",
   "execution_count": 17,
   "metadata": {},
   "outputs": [],
   "source": [
    "start = list(data.columns).index('Classification') + 1\n",
    "end = list(data.columns).index('Total')\n",
    "selection = list(data.columns)[start:end]\n",
    "selection\n",
    "\n",
    "data = data[selection]"
   ]
  },
  {
   "cell_type": "code",
   "execution_count": 18,
   "metadata": {},
   "outputs": [
    {
     "data": {
      "text/plain": [
       "(188880, 232183, 0.813496250802169, 12.592)"
      ]
     },
     "execution_count": 18,
     "metadata": {},
     "output_type": "execute_result"
    }
   ],
   "source": [
    "# london = open('south.txt').read().split(',')\n",
    "oas = list(set(data.index) & set(geom.index))\n",
    "len(oas), len(data), len(oas)/len(data), len(oas)/15000"
   ]
  },
  {
   "cell_type": "code",
   "execution_count": null,
   "metadata": {},
   "outputs": [],
   "source": []
  },
  {
   "cell_type": "code",
   "execution_count": 19,
   "metadata": {},
   "outputs": [
    {
     "name": "stderr",
     "output_type": "stream",
     "text": [
      "100%|██████████| 15000/15000 [22:11<00:00, 11.27it/s] \n"
     ]
    }
   ],
   "source": [
    "f = open(tloc + typen + '.geojson','w')\n",
    "\n",
    "f.write('''{\n",
    "\"type\": \"FeatureCollection\",\n",
    "\"features\": [\n",
    "''')\n",
    "\n",
    "nit = 15000\n",
    "ncores = 8\n",
    "fstr = ''\n",
    "counter = 0 \n",
    "\n",
    "split = np.array_split(oas,nit)\n",
    "\n",
    "# ratio optimised for macbook pro 8c 32gb\n",
    "for res in p_uimap(makepoints,split,num_cpus=ncores):\n",
    "    # allpoints.extend(res)\n",
    "\n",
    "    fstr += res\n",
    "    counter += 1\n",
    "\n",
    "    if counter%20:\n",
    "        f.write(fstr)\n",
    "        fstr=''\n",
    "\n",
    "f.write(fstr[:-3]+ '\\n]}')\n",
    "f.close()   "
   ]
  },
  {
   "cell_type": "code",
   "execution_count": 20,
   "metadata": {
    "vscode": {
     "languageId": "shellscript"
    }
   },
   "outputs": [
    {
     "name": "stderr",
     "output_type": "stream",
     "text": [
      "temp/TS017_hh_size_5a_2021.geojson:1547923: Found ] not in an array\n",
      "In JSON object {\"type\":\"Feature\",\"properties\":{\"cat\":1},\"geometry\":{\"type\":\"Point\",\"coordinates\":[-3.515677,50.725515]}}\n",
      "temp/TS017_hh_size_5a_2021.geojson:1548006: Reached EOF without all containers being closed\n",
      "In JSON object {\"type\":\"FeatureCollection\",\"features\":[]}\n",
      "temp/TS021_ethnic_group_tb_6a_2021.geojson:3723817: Found ] not in an array\n",
      "In JSON object {\"type\":\"Feature\",\"properties\":{\"cat\":3},\"geometry\":{\"type\":\"Point\",\"coordinates\":[0.124095,51.534984]}}\n",
      "temp/TS021_ethnic_group_tb_6a_2021.geojson:3723910: Reached EOF without all containers being closed\n",
      "In JSON object {\"type\":\"FeatureCollection\",\"features\":[]}\n",
      "84381563 features, 1341897485 bytes of geometry, 16 bytes of separate metadata, 320 bytes of string pool\n",
      "  99.9%  13/3995/2669  \n"
     ]
    },
    {
     "data": {
      "text/plain": [
       "0"
      ]
     },
     "execution_count": 20,
     "metadata": {},
     "output_type": "execute_result"
    }
   ],
   "source": [
    "# use parallel! as newline delimited geojson\n",
    "'-z16 -Bg'\n",
    "os.system(f'rm -rf {oloc}/{typen}')\n",
    "os.system(f'/usr/local/bin/tippecanoe -f -l {typen} -r3 --drop-fraction-as-needed --no-tile-compression --no-tile-size-limit --no-feature-limit -P --output-to-directory=\"{oloc}{typen}\" -z13 -B12 -Z8 {tloc}*')\n",
    "\n"
   ]
  },
  {
   "cell_type": "code",
   "execution_count": null,
   "metadata": {
    "vscode": {
     "languageId": "shellscript"
    }
   },
   "outputs": [],
   "source": []
  },
  {
   "cell_type": "code",
   "execution_count": 21,
   "metadata": {},
   "outputs": [
    {
     "name": "stdout",
     "output_type": "stream",
     "text": [
      "\"Asian, Asian British or Asian Welsh\" , colour[0],\"Black, Black British, Black Welsh, Caribbean or African\" , colour[1],\"Mixed or Multiple ethnic groups\" , colour[2],\"White\" , colour[3],\"Other ethnic group\" , colour[4],\"#ccc\"\n",
      "\n",
      "`<span style='color:${colour[0]}'> Asian, Asian British or Asian Welsh </span><br><span style='color:${colour[1]}'> Black, Black British, Black Welsh, Caribbean or African </span><br><span style='color:${colour[2]}'> Mixed or Multiple ethnic groups </span><br><span style='color:${colour[3]}'> White </span><br><span style='color:${colour[4]}'> Other ethnic group </span><br>`\n"
     ]
    }
   ],
   "source": [
    "st='' \n",
    "key = '`'\n",
    "for i,s in enumerate(selection):\n",
    "    st+= f'\"{s}\" , colour[{i}],'\n",
    "    key+=\"<span style='color:${colour[%d]}'> %s </span><br>\"%(i,s)\n",
    "st+='\"#ccc\"'\n",
    "key+='`'\n",
    "\n",
    "print(st)\n",
    "print()\n",
    "print(key)\n"
   ]
  },
  {
   "cell_type": "code",
   "execution_count": 22,
   "metadata": {},
   "outputs": [
    {
     "data": {
      "text/plain": [
       "['Asian, Asian British or Asian Welsh',\n",
       " 'Black, Black British, Black Welsh, Caribbean or African',\n",
       " 'Mixed or Multiple ethnic groups',\n",
       " 'White',\n",
       " 'Other ethnic group']"
      ]
     },
     "execution_count": 22,
     "metadata": {},
     "output_type": "execute_result"
    }
   ],
   "source": [
    "selection"
   ]
  },
  {
   "cell_type": "markdown",
   "metadata": {},
   "source": []
  },
  {
   "cell_type": "code",
   "execution_count": null,
   "metadata": {},
   "outputs": [],
   "source": []
  }
 ],
 "metadata": {
  "kernelspec": {
   "display_name": "Python 3.9.7 ('DataServer')",
   "language": "python",
   "name": "python3"
  },
  "language_info": {
   "codemirror_mode": {
    "name": "ipython",
    "version": 3
   },
   "file_extension": ".py",
   "mimetype": "text/x-python",
   "name": "python",
   "nbconvert_exporter": "python",
   "pygments_lexer": "ipython3",
   "version": "3.9.7"
  },
  "orig_nbformat": 4,
  "vscode": {
   "interpreter": {
    "hash": "9da6e78936f6a8ab907bad03d2fac666a6d46a2192eea18a6af8d3db83b62898"
   }
  }
 },
 "nbformat": 4,
 "nbformat_minor": 2
}
